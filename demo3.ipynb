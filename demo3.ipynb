{
 "cells": [
  {
   "cell_type": "code",
   "execution_count": 1,
   "id": "911072fd",
   "metadata": {},
   "outputs": [],
   "source": [
    "import numpy as np\n",
    "import re\n",
    "import pandas as pd\n",
    "from nltk.corpus import stopwords\n",
    "from nltk.stem.porter import PorterStemmer\n",
    "from sklearn.feature_extraction.text import TfidfVectorizer\n",
    "from sklearn.model_selection import train_test_split\n",
    "from sklearn.linear_model import LogisticRegression\n",
    "from sklearn.metrics import accuracy_score\n",
    "from sklearn.svm import SVC\n"
   ]
  },
  {
   "cell_type": "code",
   "execution_count": 3,
   "id": "15cd7d11",
   "metadata": {},
   "outputs": [],
   "source": [
    "# Load data\n",
    "news_df = pd.read_csv('data1.csv')\n",
    "news_df = news_df.fillna(' ')\n",
    "X = news_df['content']\n",
    "y = news_df['label_fnn']"
   ]
  },
  {
   "cell_type": "code",
   "execution_count": 4,
   "id": "b5c1a0fd",
   "metadata": {},
   "outputs": [],
   "source": [
    "vector = TfidfVectorizer()\n",
    "vector.fit(X)\n",
    "X = vector.transform(X)"
   ]
  },
  {
   "cell_type": "code",
   "execution_count": 5,
   "id": "003063f6",
   "metadata": {},
   "outputs": [],
   "source": [
    "# Split data into train and test sets\n",
    "X_train, X_test, Y_train, Y_test = train_test_split(X, y, test_size=0.3, stratify=y, random_state=2)"
   ]
  },
  {
   "cell_type": "code",
   "execution_count": 6,
   "id": "702731f4",
   "metadata": {
    "scrolled": true
   },
   "outputs": [
    {
     "data": {
      "text/html": [
       "<style>#sk-container-id-1 {color: black;background-color: white;}#sk-container-id-1 pre{padding: 0;}#sk-container-id-1 div.sk-toggleable {background-color: white;}#sk-container-id-1 label.sk-toggleable__label {cursor: pointer;display: block;width: 100%;margin-bottom: 0;padding: 0.3em;box-sizing: border-box;text-align: center;}#sk-container-id-1 label.sk-toggleable__label-arrow:before {content: \"▸\";float: left;margin-right: 0.25em;color: #696969;}#sk-container-id-1 label.sk-toggleable__label-arrow:hover:before {color: black;}#sk-container-id-1 div.sk-estimator:hover label.sk-toggleable__label-arrow:before {color: black;}#sk-container-id-1 div.sk-toggleable__content {max-height: 0;max-width: 0;overflow: hidden;text-align: left;background-color: #f0f8ff;}#sk-container-id-1 div.sk-toggleable__content pre {margin: 0.2em;color: black;border-radius: 0.25em;background-color: #f0f8ff;}#sk-container-id-1 input.sk-toggleable__control:checked~div.sk-toggleable__content {max-height: 200px;max-width: 100%;overflow: auto;}#sk-container-id-1 input.sk-toggleable__control:checked~label.sk-toggleable__label-arrow:before {content: \"▾\";}#sk-container-id-1 div.sk-estimator input.sk-toggleable__control:checked~label.sk-toggleable__label {background-color: #d4ebff;}#sk-container-id-1 div.sk-label input.sk-toggleable__control:checked~label.sk-toggleable__label {background-color: #d4ebff;}#sk-container-id-1 input.sk-hidden--visually {border: 0;clip: rect(1px 1px 1px 1px);clip: rect(1px, 1px, 1px, 1px);height: 1px;margin: -1px;overflow: hidden;padding: 0;position: absolute;width: 1px;}#sk-container-id-1 div.sk-estimator {font-family: monospace;background-color: #f0f8ff;border: 1px dotted black;border-radius: 0.25em;box-sizing: border-box;margin-bottom: 0.5em;}#sk-container-id-1 div.sk-estimator:hover {background-color: #d4ebff;}#sk-container-id-1 div.sk-parallel-item::after {content: \"\";width: 100%;border-bottom: 1px solid gray;flex-grow: 1;}#sk-container-id-1 div.sk-label:hover label.sk-toggleable__label {background-color: #d4ebff;}#sk-container-id-1 div.sk-serial::before {content: \"\";position: absolute;border-left: 1px solid gray;box-sizing: border-box;top: 0;bottom: 0;left: 50%;z-index: 0;}#sk-container-id-1 div.sk-serial {display: flex;flex-direction: column;align-items: center;background-color: white;padding-right: 0.2em;padding-left: 0.2em;position: relative;}#sk-container-id-1 div.sk-item {position: relative;z-index: 1;}#sk-container-id-1 div.sk-parallel {display: flex;align-items: stretch;justify-content: center;background-color: white;position: relative;}#sk-container-id-1 div.sk-item::before, #sk-container-id-1 div.sk-parallel-item::before {content: \"\";position: absolute;border-left: 1px solid gray;box-sizing: border-box;top: 0;bottom: 0;left: 50%;z-index: -1;}#sk-container-id-1 div.sk-parallel-item {display: flex;flex-direction: column;z-index: 1;position: relative;background-color: white;}#sk-container-id-1 div.sk-parallel-item:first-child::after {align-self: flex-end;width: 50%;}#sk-container-id-1 div.sk-parallel-item:last-child::after {align-self: flex-start;width: 50%;}#sk-container-id-1 div.sk-parallel-item:only-child::after {width: 0;}#sk-container-id-1 div.sk-dashed-wrapped {border: 1px dashed gray;margin: 0 0.4em 0.5em 0.4em;box-sizing: border-box;padding-bottom: 0.4em;background-color: white;}#sk-container-id-1 div.sk-label label {font-family: monospace;font-weight: bold;display: inline-block;line-height: 1.2em;}#sk-container-id-1 div.sk-label-container {text-align: center;}#sk-container-id-1 div.sk-container {/* jupyter's `normalize.less` sets `[hidden] { display: none; }` but bootstrap.min.css set `[hidden] { display: none !important; }` so we also need the `!important` here to be able to override the default hidden behavior on the sphinx rendered scikit-learn.org. See: https://github.com/scikit-learn/scikit-learn/issues/21755 */display: inline-block !important;position: relative;}#sk-container-id-1 div.sk-text-repr-fallback {display: none;}</style><div id=\"sk-container-id-1\" class=\"sk-top-container\"><div class=\"sk-text-repr-fallback\"><pre>SVC()</pre><b>In a Jupyter environment, please rerun this cell to show the HTML representation or trust the notebook. <br />On GitHub, the HTML representation is unable to render, please try loading this page with nbviewer.org.</b></div><div class=\"sk-container\" hidden><div class=\"sk-item\"><div class=\"sk-estimator sk-toggleable\"><input class=\"sk-toggleable__control sk-hidden--visually\" id=\"sk-estimator-id-1\" type=\"checkbox\" checked><label for=\"sk-estimator-id-1\" class=\"sk-toggleable__label sk-toggleable__label-arrow\">SVC</label><div class=\"sk-toggleable__content\"><pre>SVC()</pre></div></div></div></div></div>"
      ],
      "text/plain": [
       "SVC()"
      ]
     },
     "execution_count": 6,
     "metadata": {},
     "output_type": "execute_result"
    }
   ],
   "source": [
    "model = SVC()\n",
    "model.fit(X_train,Y_train)"
   ]
  },
  {
   "cell_type": "code",
   "execution_count": 7,
   "id": "6ca0d787",
   "metadata": {},
   "outputs": [],
   "source": [
    "y_pred = model.predict(X_test)"
   ]
  },
  {
   "cell_type": "code",
   "execution_count": null,
   "id": "76c938b1",
   "metadata": {},
   "outputs": [],
   "source": [
    "\n"
   ]
  },
  {
   "cell_type": "code",
   "execution_count": 12,
   "id": "55152a99",
   "metadata": {},
   "outputs": [
    {
     "name": "stdout",
     "output_type": "stream",
     "text": [
      "Accuracy: 0.6715600350569676\n"
     ]
    }
   ],
   "source": [
    "# Calculate accuracy\n",
    "accuracy = accuracy_score(Y_test, y_pred)\n",
    "print(\"Accuracy:\", accuracy)"
   ]
  },
  {
   "cell_type": "code",
   "execution_count": 8,
   "id": "0847fb42",
   "metadata": {},
   "outputs": [],
   "source": [
    "input_text=\"Sahar police in Mumbai booked a man on Monday for allegedly giving triple talaq to his wife after she posted a reel on Instagram. The woman alleged her husband also threatened to kill her if she failed to take the short video down. Besides, she has levelled allegations of dowry harassment against the man and her in-laws.The complainant Rukhsar Mutakeem Siddiqui, 23, a Kurla resident, married Mutakeem Siddiqui, a resident of Andheri (East), on March 22 last year. As per Rukhsar’s complaint, Mutakeem, his parents and sisters allegedly harassed her demanding Rs 5 lakh in dowry. Rukhsar also alleged that Mutakeem was having an affair with another woman who would even visit their home.In February 2023, Rukhsar went to her parents’ residence after she fell sick and continued to stay there. In April, she posted an Instagram reel featuring herself along with Mutakeem, the complainant said.\""
   ]
  },
  {
   "cell_type": "code",
   "execution_count": null,
   "id": "61df9513",
   "metadata": {},
   "outputs": [],
   "source": []
  },
  {
   "cell_type": "code",
   "execution_count": 9,
   "id": "595b678c",
   "metadata": {},
   "outputs": [],
   "source": [
    "input_text1=vector.transform([input_text])"
   ]
  },
  {
   "cell_type": "code",
   "execution_count": 10,
   "id": "10f86d9a",
   "metadata": {},
   "outputs": [
    {
     "data": {
      "text/plain": [
       "<1x46523 sparse matrix of type '<class 'numpy.float64'>'\n",
       "\twith 44 stored elements in Compressed Sparse Row format>"
      ]
     },
     "execution_count": 10,
     "metadata": {},
     "output_type": "execute_result"
    }
   ],
   "source": [
    "input_text1"
   ]
  },
  {
   "cell_type": "code",
   "execution_count": 11,
   "id": "a547a460",
   "metadata": {},
   "outputs": [
    {
     "name": "stdout",
     "output_type": "stream",
     "text": [
      "['fake']\n"
     ]
    }
   ],
   "source": [
    "print(model.predict(input_text1))"
   ]
  },
  {
   "cell_type": "code",
   "execution_count": 17,
   "id": "caf9c8e2",
   "metadata": {},
   "outputs": [
    {
     "name": "stderr",
     "output_type": "stream",
     "text": [
      "C:\\Users\\ASUS\\AppData\\Local\\Programs\\Python\\Python310\\lib\\site-packages\\_distutils_hack\\__init__.py:33: UserWarning: Setuptools is replacing distutils.\n",
      "  warnings.warn(\"Setuptools is replacing distutils.\")\n"
     ]
    },
    {
     "name": "stdout",
     "output_type": "stream",
     "text": [
      "{'title': 'Mumbai man gives triple talaq to wife after she posts their reel on Instagram; booked - The Indian Express', 'description': 'Mumbai man gives triple talaq to wife after she posts their reel on Instagram; booked  The Indian Express', 'published date': 'Tue, 06 Jun 2023 08:07:14 GMT', 'url': 'https://news.google.com/rss/articles/CBMihgFodHRwczovL2luZGlhbmV4cHJlc3MuY29tL2FydGljbGUvY2l0aWVzL211bWJhaS9tdW1iYWktbWFuLWdpdmVzLXRyaXBsZS10YWxhcS10by13aWZlLWFmdGVyLXNoZS1wb3N0cy10aGVpci1yZWVsLW9uLWluc3RhZ3JhbS04NjQ4MjE5L9IBiwFodHRwczovL2luZGlhbmV4cHJlc3MuY29tL2FydGljbGUvY2l0aWVzL211bWJhaS9tdW1iYWktbWFuLWdpdmVzLXRyaXBsZS10YWxhcS10by13aWZlLWFmdGVyLXNoZS1wb3N0cy10aGVpci1yZWVsLW9uLWluc3RhZ3JhbS04NjQ4MjE5L2xpdGUv?oc=5&hl=en-IN&gl=IN&ceid=IN:en', 'publisher': {'href': 'https://indianexpress.com', 'title': 'The Indian Express'}}\n"
     ]
    }
   ],
   "source": [
    "# 0---------------------working, to extract every thing but slow-------------------------------------------------------\n",
    "\n",
    "from gnews import GNews\n",
    "\n",
    "google_news = GNews()\n",
    "Indian_news = google_news.get_news(input_text)\n",
    "\n",
    "for news in Indian_news:\n",
    "    print(news)\n",
    "    # print(news[\"title\"][:news[\"title\"].rindex('-')], news[\"publisher\"][\"title\"], news[\"url\"])\n",
    "\n",
    "# news = Indian_news[0]\n",
    "# print(news[\"title\"][:news[\"title\"].rindex('-')], news[\"publisher\"][\"title\"], news[\"url\"])"
   ]
  },
  {
   "cell_type": "code",
   "execution_count": 12,
   "id": "2f978242",
   "metadata": {},
   "outputs": [
    {
     "name": "stdout",
     "output_type": "stream",
     "text": [
      "\"Sahar police in Mumbai booked a man on Monday for allegedly giving triple talaq to his wife after she posted a reel on Instagram. The woman alleged her husband also threatened to kill her if she failed to take the short video down. Besides, she has levelled allegations of dowry harassment against the man and her in-laws.The complainant Rukhsar Mutakeem Siddiqui, 23, a Kurla resident, married Mutakeem Siddiqui, a resident of Andheri (East), on March 22 last year. As per Rukhsar’s complaint, Mutakeem, his parents and sisters allegedly harassed her demanding Rs 5 lakh in dowry. Rukhsar also alleged that Mutakeem was having an affair with another woman who would even visit their home.In February 2023, Rukhsar went to her parents’ residence after she fell sick and continued to stay there. In April, she posted an Instagram reel featuring herself along with Mutakeem, the complainant said.\" - Google News\n",
      "Mumbai man gives triple talaq to wife after she posts their reel on Instagram; booked - The Indian Express\n"
     ]
    }
   ],
   "source": [
    "from requests_html import HTMLSession\n",
    "session = HTMLSession()\n",
    "\n",
    "url = \"https://news.google.com/rss/search?q=\"+input_text\n",
    "\n",
    "r = session.get(url)\n",
    "# print(r.html.html)\n",
    "\n",
    "for title in r.html.find(\"title\"):\n",
    "    print(title.text)"
   ]
  },
  {
   "cell_type": "code",
   "execution_count": null,
   "id": "a8d19fb2",
   "metadata": {},
   "outputs": [],
   "source": []
  },
  {
   "cell_type": "code",
   "execution_count": null,
   "id": "88f4be48",
   "metadata": {},
   "outputs": [],
   "source": []
  },
  {
   "cell_type": "code",
   "execution_count": null,
   "id": "d1bbe4bf",
   "metadata": {},
   "outputs": [],
   "source": []
  }
 ],
 "metadata": {
  "kernelspec": {
   "display_name": "Python 3 (ipykernel)",
   "language": "python",
   "name": "python3"
  },
  "language_info": {
   "codemirror_mode": {
    "name": "ipython",
    "version": 3
   },
   "file_extension": ".py",
   "mimetype": "text/x-python",
   "name": "python",
   "nbconvert_exporter": "python",
   "pygments_lexer": "ipython3",
   "version": "3.10.1"
  }
 },
 "nbformat": 4,
 "nbformat_minor": 5
}
